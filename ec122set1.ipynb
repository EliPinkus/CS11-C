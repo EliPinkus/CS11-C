{
  "nbformat": 4,
  "nbformat_minor": 0,
  "metadata": {
    "colab": {
      "name": "ec122set1.ipynb",
      "provenance": [],
      "include_colab_link": true
    },
    "kernelspec": {
      "name": "python3",
      "display_name": "Python 3"
    }
  },
  "cells": [
    {
      "cell_type": "markdown",
      "metadata": {
        "id": "view-in-github",
        "colab_type": "text"
      },
      "source": [
        "<a href=\"https://colab.research.google.com/github/EliPinkus/CS11-C/blob/master/ec122set1.ipynb\" target=\"_parent\"><img src=\"https://colab.research.google.com/assets/colab-badge.svg\" alt=\"Open In Colab\"/></a>"
      ]
    },
    {
      "cell_type": "code",
      "metadata": {
        "id": "riv2GAXeKRAH",
        "colab_type": "code",
        "colab": {}
      },
      "source": [
        "import numpy as np\n",
        "import pandas as pd\n",
        "import matplotlib.pyplot as plt\n",
        "from sklearn.linear_model import LinearRegression\n",
        "from sklearn import metrics\n",
        "%matplotlib inline"
      ],
      "execution_count": 0,
      "outputs": []
    },
    {
      "cell_type": "markdown",
      "metadata": {
        "id": "pA4UCfi1_TXn",
        "colab_type": "text"
      },
      "source": [
        "#2.10"
      ]
    },
    {
      "cell_type": "markdown",
      "metadata": {
        "id": "6e09ayOE_thD",
        "colab_type": "text"
      },
      "source": [
        "## 2.10.A"
      ]
    },
    {
      "cell_type": "markdown",
      "metadata": {
        "id": "gO9OhLgA_YWQ",
        "colab_type": "text"
      },
      "source": [
        "We can write CAPM as $y=\\beta_1+\\beta_2 x + \\epsilon$ with $y=r_j-r_f$ and $x=r_m-r_f$.\n",
        "This first with equation 2.1 in the book since we have a single explantory variable (returns of market portfolio over risk free rate)."
      ]
    },
    {
      "cell_type": "markdown",
      "metadata": {
        "id": "rlRwRzu2_y77",
        "colab_type": "text"
      },
      "source": [
        "## 2.10.B"
      ]
    },
    {
      "cell_type": "code",
      "metadata": {
        "id": "oL0RQMHY3FPU",
        "colab_type": "code",
        "colab": {}
      },
      "source": [
        "capm = pd.read_csv('http://www.principlesofeconometrics.com/poe4/data/dat/capm4.dat',\n",
        "            header=None, sep='\\s\\s+', engine='python')\n",
        "capm.columns = ['date', 'Disney', 'General Electric', 'GM', 'IBM', 'Microsoft', 'EXXON', 'mkt', 'rf']\n",
        "stocks = [ 'Disney', 'General Electric', 'GM', 'IBM', 'Microsoft', 'EXXON', 'mkt']"
      ],
      "execution_count": 0,
      "outputs": []
    },
    {
      "cell_type": "code",
      "metadata": {
        "id": "k7gRgIni3FUp",
        "colab_type": "code",
        "colab": {}
      },
      "source": [
        "for stock in stocks:\n",
        "  capm[stock + '_over_rf'] = capm[stock] - capm['rf']"
      ],
      "execution_count": 0,
      "outputs": []
    },
    {
      "cell_type": "code",
      "metadata": {
        "id": "mpjnqFsJ3FcE",
        "colab_type": "code",
        "outputId": "25acb244-d22a-42f5-8320-ec4a55b24275",
        "colab": {
          "base_uri": "https://localhost:8080/",
          "height": 136
        }
      },
      "source": [
        "X = np.array(capm['mkt_over_rf']).reshape(-1,1)\n",
        "for stock in stocks:\n",
        "  y = np.array(capm[stock + '_over_rf'])\n",
        "  reg = LinearRegression()\n",
        "  reg.fit(X, y = y)\n",
        "  beta1, beta2 = reg.intercept_, reg.coef_[0]\n",
        "  lin_reg = lambda x: x * beta2 + beta1\n",
        "  print (f'{stock}: alpha  {beta1},  beta {beta2}')"
      ],
      "execution_count": 0,
      "outputs": [
        {
          "output_type": "stream",
          "text": [
            "Disney: alpha  -0.0011494089976508467,  beta 0.8978381069257936\n",
            "General Electric: alpha  -0.0011669334592206843,  beta 0.8992599289746637\n",
            "GM: alpha  -0.01155001931534108,  beta 1.2614107002577049\n",
            "IBM: alpha  0.005851259129719721,  beta 1.1882083505684915\n",
            "Microsoft: alpha  0.00609752005264962,  beta 1.3189468140536933\n",
            "EXXON: alpha  0.007880144818470174,  beta 0.41396895102405395\n",
            "mkt: alpha  2.710505431213761e-20,  beta 1.0000000000000002\n"
          ],
          "name": "stdout"
        }
      ]
    },
    {
      "cell_type": "markdown",
      "metadata": {
        "id": "aQeyLmBi8joX",
        "colab_type": "text"
      },
      "source": [
        "We notice that GM, IBM, and microsoft can be consider aggressive while exxon GM and Disney are more defensive."
      ]
    },
    {
      "cell_type": "markdown",
      "metadata": {
        "id": "5X1FueqC_4L0",
        "colab_type": "text"
      },
      "source": [
        "## 2.10.C"
      ]
    },
    {
      "cell_type": "markdown",
      "metadata": {
        "id": "b19z1wLq-cZe",
        "colab_type": "text"
      },
      "source": [
        "The alpha values are rather close to 0 which is consistent with the thoery.\n",
        "\n",
        "We can rerun the regression assuming intercept is 0:"
      ]
    },
    {
      "cell_type": "markdown",
      "metadata": {
        "id": "b8Pf62gJ_8kh",
        "colab_type": "text"
      },
      "source": [
        "## 2.10.D"
      ]
    },
    {
      "cell_type": "code",
      "metadata": {
        "id": "kxIhcy289toX",
        "colab_type": "code",
        "outputId": "8a89765d-db09-42bb-9660-5bfb3418728d",
        "colab": {
          "base_uri": "https://localhost:8080/",
          "height": 136
        }
      },
      "source": [
        "X = np.array(capm['mkt_over_rf']).reshape(-1,1)\n",
        "for stock in stocks:\n",
        "  y = np.array(capm[stock + '_over_rf'])\n",
        "  reg = LinearRegression(fit_intercept = False)\n",
        "  reg.fit(X, y = y)\n",
        "  beta1, beta2 = reg.intercept_, reg.coef_[0]\n",
        "  lin_reg = lambda x: x * beta2 + beta1\n",
        "  print (f'{stock}: alpha  {beta1},  beta {beta2}')"
      ],
      "execution_count": 0,
      "outputs": [
        {
          "output_type": "stream",
          "text": [
            "Disney: alpha  0.0,  beta 0.8979192926662851\n",
            "General Electric: alpha  0.0,  beta 0.899342352513356\n",
            "GM: alpha  0.0,  beta 1.2622265080969761\n",
            "IBM: alpha  0.0,  beta 1.1877950609507586\n",
            "Microsoft: alpha  0.0,  beta 1.318516130387868\n",
            "EXXON: alpha  0.0,  beta 0.4134123559446872\n",
            "mkt: alpha  0.0,  beta 0.9999999999999996\n"
          ],
          "name": "stdout"
        }
      ]
    },
    {
      "cell_type": "markdown",
      "metadata": {
        "id": "C66zKCxh_JCQ",
        "colab_type": "text"
      },
      "source": [
        "The Values change marginally"
      ]
    },
    {
      "cell_type": "code",
      "metadata": {
        "id": "QbcH1x9y9tsr",
        "colab_type": "code",
        "colab": {}
      },
      "source": [
        ""
      ],
      "execution_count": 0,
      "outputs": []
    },
    {
      "cell_type": "markdown",
      "metadata": {
        "id": "VM07H1k9__D9",
        "colab_type": "text"
      },
      "source": [
        "#2.15"
      ]
    },
    {
      "cell_type": "code",
      "metadata": {
        "id": "9zOyLD9nNICf",
        "colab_type": "code",
        "colab": {}
      },
      "source": [
        "df = pd.read_csv('http://www.principlesofeconometrics.com/poe4/data/dat/cps4_small.dat',\n",
        "            header=None, sep='\\s\\s+', engine='python')"
      ],
      "execution_count": 0,
      "outputs": []
    },
    {
      "cell_type": "code",
      "metadata": {
        "id": "hw0ScHnVKSU2",
        "colab_type": "code",
        "colab": {}
      },
      "source": [
        "#df = df.iloc[:,0:2]\n",
        "df.columns = ['wage', 'edu', 'exper', 'hrswk','married', 'female', 'metro', 'midwest', 'south', 'west', 'black', 'asian']"
      ],
      "execution_count": 0,
      "outputs": []
    },
    {
      "cell_type": "code",
      "metadata": {
        "id": "yJv2FYYsNfUH",
        "colab_type": "code",
        "outputId": "bdb4ee01-e2b5-41c2-ae61-4073be7c7256",
        "colab": {
          "base_uri": "https://localhost:8080/",
          "height": 300
        }
      },
      "source": [
        "df.plot(y = 'wage', x = 'edu', style = '.')\n"
      ],
      "execution_count": 0,
      "outputs": [
        {
          "output_type": "execute_result",
          "data": {
            "text/plain": [
              "<matplotlib.axes._subplots.AxesSubplot at 0x7f7792506a58>"
            ]
          },
          "metadata": {
            "tags": []
          },
          "execution_count": 293
        },
        {
          "output_type": "display_data",
          "data": {
            "image/png": "[encoded data removed]",
            "text/plain": [
              "<Figure size 432x288 with 1 Axes>"
            ]
          },
          "metadata": {
            "tags": []
          }
        }
      ]
    },
    {
      "cell_type": "markdown",
      "metadata": {
        "id": "KfuogYbfANzc",
        "colab_type": "text"
      },
      "source": [
        "## 2.15.A"
      ]
    },
    {
      "cell_type": "code",
      "metadata": {
        "id": "bkEarDW2OZM2",
        "colab_type": "code",
        "outputId": "9717b8f9-495c-44a0-981c-a47f448a76bb",
        "colab": {
          "base_uri": "https://localhost:8080/",
          "height": 297
        }
      },
      "source": [
        "df.describe()[['wage','edu']]"
      ],
      "execution_count": 0,
      "outputs": [
        {
          "output_type": "execute_result",
          "data": {
            "text/html": [
              "<div>\n",
              "<style scoped>\n",
              "    .dataframe tbody tr th:only-of-type {\n",
              "        vertical-align: middle;\n",
              "    }\n",
              "\n",
              "    .dataframe tbody tr th {\n",
              "        vertical-align: top;\n",
              "    }\n",
              "\n",
              "    .dataframe thead th {\n",
              "        text-align: right;\n",
              "    }\n",
              "</style>\n",
              "<table border=\"1\" class=\"dataframe\">\n",
              "  <thead>\n",
              "    <tr style=\"text-align: right;\">\n",
              "      <th></th>\n",
              "      <th>wage</th>\n",
              "      <th>edu</th>\n",
              "    </tr>\n",
              "  </thead>\n",
              "  <tbody>\n",
              "    <tr>\n",
              "      <th>count</th>\n",
              "      <td>1000.000000</td>\n",
              "      <td>1000.000000</td>\n",
              "    </tr>\n",
              "    <tr>\n",
              "      <th>mean</th>\n",
              "      <td>20.615660</td>\n",
              "      <td>13.799000</td>\n",
              "    </tr>\n",
              "    <tr>\n",
              "      <th>std</th>\n",
              "      <td>12.834725</td>\n",
              "      <td>2.711079</td>\n",
              "    </tr>\n",
              "    <tr>\n",
              "      <th>min</th>\n",
              "      <td>1.970000</td>\n",
              "      <td>0.000000</td>\n",
              "    </tr>\n",
              "    <tr>\n",
              "      <th>25%</th>\n",
              "      <td>11.250000</td>\n",
              "      <td>12.000000</td>\n",
              "    </tr>\n",
              "    <tr>\n",
              "      <th>50%</th>\n",
              "      <td>17.300000</td>\n",
              "      <td>13.000000</td>\n",
              "    </tr>\n",
              "    <tr>\n",
              "      <th>75%</th>\n",
              "      <td>25.630000</td>\n",
              "      <td>16.000000</td>\n",
              "    </tr>\n",
              "    <tr>\n",
              "      <th>max</th>\n",
              "      <td>76.390000</td>\n",
              "      <td>21.000000</td>\n",
              "    </tr>\n",
              "  </tbody>\n",
              "</table>\n",
              "</div>"
            ],
            "text/plain": [
              "              wage          edu\n",
              "count  1000.000000  1000.000000\n",
              "mean     20.615660    13.799000\n",
              "std      12.834725     2.711079\n",
              "min       1.970000     0.000000\n",
              "25%      11.250000    12.000000\n",
              "50%      17.300000    13.000000\n",
              "75%      25.630000    16.000000\n",
              "max      76.390000    21.000000"
            ]
          },
          "metadata": {
            "tags": []
          },
          "execution_count": 294
        }
      ]
    },
    {
      "cell_type": "code",
      "metadata": {
        "id": "9_m4FM53SWE2",
        "colab_type": "code",
        "outputId": "b1df5059-63b7-49eb-cfab-514d51f3e8ff",
        "colab": {
          "base_uri": "https://localhost:8080/",
          "height": 332
        }
      },
      "source": [
        "df.hist(['edu', 'wage'], bins = 32)"
      ],
      "execution_count": 0,
      "outputs": [
        {
          "output_type": "execute_result",
          "data": {
            "text/plain": [
              "array([[<matplotlib.axes._subplots.AxesSubplot object at 0x7f77924fe438>,\n",
              "        <matplotlib.axes._subplots.AxesSubplot object at 0x7f7792482978>]],\n",
              "      dtype=object)"
            ]
          },
          "metadata": {
            "tags": []
          },
          "execution_count": 295
        },
        {
          "output_type": "display_data",
          "data": {
            "image/png": "[encoded data removed]",
            "text/plain": [
              "<Figure size 432x288 with 2 Axes>"
            ]
          },
          "metadata": {
            "tags": []
          }
        }
      ]
    },
    {
      "cell_type": "code",
      "metadata": {
        "id": "naVID33Xjx5V",
        "colab_type": "code",
        "outputId": "96cd6040-bb6e-440d-f222-50c51e3a0cc3",
        "colab": {
          "base_uri": "https://localhost:8080/",
          "height": 221
        }
      },
      "source": [
        "df.groupby('edu').count().loc[0]"
      ],
      "execution_count": 0,
      "outputs": [
        {
          "output_type": "execute_result",
          "data": {
            "text/plain": [
              "wage       1\n",
              "exper      1\n",
              "hrswk      1\n",
              "married    1\n",
              "female     1\n",
              "metro      1\n",
              "midwest    1\n",
              "south      1\n",
              "west       1\n",
              "black      1\n",
              "asian      1\n",
              "Name: 0, dtype: int64"
            ]
          },
          "metadata": {
            "tags": []
          },
          "execution_count": 296
        }
      ]
    },
    {
      "cell_type": "markdown",
      "metadata": {
        "id": "J1WZolOsjwj8",
        "colab_type": "text"
      },
      "source": [
        ""
      ]
    },
    {
      "cell_type": "markdown",
      "metadata": {
        "id": "54hQqfJHhu8R",
        "colab_type": "text"
      },
      "source": [
        "There's a clear skew to both distrabutions (high skew for edu, low for wage). \n",
        "We note that our wage data ranges from ~2k to ~76k so it is not considering the upperclass or individuals w/o wages. ALso worth noting that the dataset includes people w/ no years of formal education (a single individual actually). The bulk of the dataset describes people with between 12 and 16 years of schooling which corresponds to completing high school and some college. The median represents and individual with little to no college (if kindergarden is a thing)."
      ]
    },
    {
      "cell_type": "markdown",
      "metadata": {
        "id": "epNktDafAT5H",
        "colab_type": "text"
      },
      "source": [
        "## 2.15.C"
      ]
    },
    {
      "cell_type": "code",
      "metadata": {
        "id": "_Ata-EjsSccS",
        "colab_type": "code",
        "outputId": "87bf18c7-e51d-4e58-f919-3768a8f90e05",
        "colab": {
          "base_uri": "https://localhost:8080/",
          "height": 34
        }
      },
      "source": [
        "X = np.array(df.edu)\n",
        "X = [[x] for x in X]\n",
        "y = np.array(df.wage)\n",
        "reg = LinearRegression()\n",
        "reg.fit(X, y = y)\n",
        "beta1, beta2 = reg.intercept_, reg.coef_[0]\n",
        "lin_reg = lambda x: x * beta2 + beta1\n",
        "beta1, beta2"
      ],
      "execution_count": 0,
      "outputs": [
        {
          "output_type": "execute_result",
          "data": {
            "text/plain": [
              "(-6.7103284204952445, 1.9802875875422308)"
            ]
          },
          "metadata": {
            "tags": []
          },
          "execution_count": 297
        }
      ]
    },
    {
      "cell_type": "code",
      "metadata": {
        "id": "47YLJbPbTvvT",
        "colab_type": "code",
        "outputId": "1ea843f5-b9d7-42aa-ead2-9352cec2fa23",
        "colab": {
          "base_uri": "https://localhost:8080/",
          "height": 34
        }
      },
      "source": [
        "reg.score(X, y)"
      ],
      "execution_count": 0,
      "outputs": [
        {
          "output_type": "execute_result",
          "data": {
            "text/plain": [
              "0.17497167061422325"
            ]
          },
          "metadata": {
            "tags": []
          },
          "execution_count": 298
        }
      ]
    },
    {
      "cell_type": "code",
      "metadata": {
        "id": "TMhkgt-0eeaW",
        "colab_type": "code",
        "outputId": "dc5b9842-adaf-4b46-aca6-da252b53129d",
        "colab": {
          "base_uri": "https://localhost:8080/",
          "height": 300
        }
      },
      "source": [
        "fig = plt.figure()\n",
        "ax = plt.axes()\n",
        "X = np.linspace(0,20,10000)\n",
        "y = reg.predict(X.reshape(-1,1))\n",
        "ax.plot(X, y)\n",
        "df.plot(y = 'wage', x = 'edu', style = '.', ax = ax, alpha = 0.2)"
      ],
      "execution_count": 0,
      "outputs": [
        {
          "output_type": "execute_result",
          "data": {
            "text/plain": [
              "<matplotlib.axes._subplots.AxesSubplot at 0x7f77923ec400>"
            ]
          },
          "metadata": {
            "tags": []
          },
          "execution_count": 299
        },
        {
          "output_type": "display_data",
          "data": {
            "image/png": "[encoded data removed]",
            "text/plain": [
              "<Figure size 432x288 with 1 Axes>"
            ]
          },
          "metadata": {
            "tags": []
          }
        }
      ]
    },
    {
      "cell_type": "markdown",
      "metadata": {
        "id": "cSUo98H2kcZm",
        "colab_type": "text"
      },
      "source": [
        "The linear model has a slope of ~2 and an R^2 of 0.17. This is a crude indicator that wages are at least correlated with schooling years. The y intercept is negative which would seem to imply that those with no education have negative wages. This could be the result of the fact that the dataset is most representative in the 12-16 year range which makes the low end up of the spectrum less represented in the regression analysis. One could also conceive of an intuitive interperatation of negative wages as perhaps an individual that receives more in wellfare or other benefits than they earn(i.e. a net )."
      ]
    },
    {
      "cell_type": "code",
      "metadata": {
        "id": "mjvsLqczUvFc",
        "colab_type": "code",
        "colab": {}
      },
      "source": [
        "df['error'] = abs(df.wage - reg.predict(np.array(df.edu).reshape(-1,1)))\n",
        "df['error_sq'] = df.error ** 2"
      ],
      "execution_count": 0,
      "outputs": []
    },
    {
      "cell_type": "code",
      "metadata": {
        "id": "vqM5sbcEWe68",
        "colab_type": "code",
        "outputId": "41d51164-1cc5-4075-d84e-2a38e5e35bf7",
        "colab": {
          "base_uri": "https://localhost:8080/",
          "height": 483
        }
      },
      "source": [
        "df.corr()[['wage', 'edu', 'error', 'error_sq']]"
      ],
      "execution_count": 0,
      "outputs": [
        {
          "output_type": "execute_result",
          "data": {
            "text/html": [
              "<div>\n",
              "<style scoped>\n",
              "    .dataframe tbody tr th:only-of-type {\n",
              "        vertical-align: middle;\n",
              "    }\n",
              "\n",
              "    .dataframe tbody tr th {\n",
              "        vertical-align: top;\n",
              "    }\n",
              "\n",
              "    .dataframe thead th {\n",
              "        text-align: right;\n",
              "    }\n",
              "</style>\n",
              "<table border=\"1\" class=\"dataframe\">\n",
              "  <thead>\n",
              "    <tr style=\"text-align: right;\">\n",
              "      <th></th>\n",
              "      <th>wage</th>\n",
              "      <th>edu</th>\n",
              "      <th>error</th>\n",
              "      <th>error_sq</th>\n",
              "    </tr>\n",
              "  </thead>\n",
              "  <tbody>\n",
              "    <tr>\n",
              "      <th>wage</th>\n",
              "      <td>1.000000</td>\n",
              "      <td>0.418296</td>\n",
              "      <td>0.586597</td>\n",
              "      <td>0.650876</td>\n",
              "    </tr>\n",
              "    <tr>\n",
              "      <th>edu</th>\n",
              "      <td>0.418296</td>\n",
              "      <td>1.000000</td>\n",
              "      <td>0.192711</td>\n",
              "      <td>0.139268</td>\n",
              "    </tr>\n",
              "    <tr>\n",
              "      <th>exper</th>\n",
              "      <td>0.089090</td>\n",
              "      <td>-0.127616</td>\n",
              "      <td>0.047725</td>\n",
              "      <td>0.066702</td>\n",
              "    </tr>\n",
              "    <tr>\n",
              "      <th>hrswk</th>\n",
              "      <td>0.154643</td>\n",
              "      <td>0.105543</td>\n",
              "      <td>-0.024556</td>\n",
              "      <td>0.006127</td>\n",
              "    </tr>\n",
              "    <tr>\n",
              "      <th>married</th>\n",
              "      <td>0.136502</td>\n",
              "      <td>0.084356</td>\n",
              "      <td>0.043608</td>\n",
              "      <td>0.050419</td>\n",
              "    </tr>\n",
              "    <tr>\n",
              "      <th>female</th>\n",
              "      <td>-0.115730</td>\n",
              "      <td>0.130185</td>\n",
              "      <td>0.034990</td>\n",
              "      <td>-0.006605</td>\n",
              "    </tr>\n",
              "    <tr>\n",
              "      <th>metro</th>\n",
              "      <td>0.158352</td>\n",
              "      <td>0.109382</td>\n",
              "      <td>0.072484</td>\n",
              "      <td>0.081569</td>\n",
              "    </tr>\n",
              "    <tr>\n",
              "      <th>midwest</th>\n",
              "      <td>-0.098856</td>\n",
              "      <td>-0.020531</td>\n",
              "      <td>-0.047740</td>\n",
              "      <td>-0.058765</td>\n",
              "    </tr>\n",
              "    <tr>\n",
              "      <th>south</th>\n",
              "      <td>0.002135</td>\n",
              "      <td>0.024654</td>\n",
              "      <td>0.022724</td>\n",
              "      <td>0.014681</td>\n",
              "    </tr>\n",
              "    <tr>\n",
              "      <th>west</th>\n",
              "      <td>0.057384</td>\n",
              "      <td>-0.043862</td>\n",
              "      <td>0.048916</td>\n",
              "      <td>0.053628</td>\n",
              "    </tr>\n",
              "    <tr>\n",
              "      <th>black</th>\n",
              "      <td>-0.078516</td>\n",
              "      <td>-0.049719</td>\n",
              "      <td>0.000662</td>\n",
              "      <td>-0.012498</td>\n",
              "    </tr>\n",
              "    <tr>\n",
              "      <th>asian</th>\n",
              "      <td>0.049535</td>\n",
              "      <td>0.152165</td>\n",
              "      <td>0.006491</td>\n",
              "      <td>0.017315</td>\n",
              "    </tr>\n",
              "    <tr>\n",
              "      <th>error</th>\n",
              "      <td>0.586597</td>\n",
              "      <td>0.192711</td>\n",
              "      <td>1.000000</td>\n",
              "      <td>0.909700</td>\n",
              "    </tr>\n",
              "    <tr>\n",
              "      <th>error_sq</th>\n",
              "      <td>0.650876</td>\n",
              "      <td>0.139268</td>\n",
              "      <td>0.909700</td>\n",
              "      <td>1.000000</td>\n",
              "    </tr>\n",
              "  </tbody>\n",
              "</table>\n",
              "</div>"
            ],
            "text/plain": [
              "              wage       edu     error  error_sq\n",
              "wage      1.000000  0.418296  0.586597  0.650876\n",
              "edu       0.418296  1.000000  0.192711  0.139268\n",
              "exper     0.089090 -0.127616  0.047725  0.066702\n",
              "hrswk     0.154643  0.105543 -0.024556  0.006127\n",
              "married   0.136502  0.084356  0.043608  0.050419\n",
              "female   -0.115730  0.130185  0.034990 -0.006605\n",
              "metro     0.158352  0.109382  0.072484  0.081569\n",
              "midwest  -0.098856 -0.020531 -0.047740 -0.058765\n",
              "south     0.002135  0.024654  0.022724  0.014681\n",
              "west      0.057384 -0.043862  0.048916  0.053628\n",
              "black    -0.078516 -0.049719  0.000662 -0.012498\n",
              "asian     0.049535  0.152165  0.006491  0.017315\n",
              "error     0.586597  0.192711  1.000000  0.909700\n",
              "error_sq  0.650876  0.139268  0.909700  1.000000"
            ]
          },
          "metadata": {
            "tags": []
          },
          "execution_count": 301
        }
      ]
    },
    {
      "cell_type": "code",
      "metadata": {
        "id": "auEnYbcnhC8l",
        "colab_type": "code",
        "outputId": "340c273f-dcd0-45c7-a1ef-bf0de01349a5",
        "colab": {
          "base_uri": "https://localhost:8080/",
          "height": 300
        }
      },
      "source": [
        "df.plot(x = 'edu', y = 'error', style = '.', alpha = .2)"
      ],
      "execution_count": 0,
      "outputs": [
        {
          "output_type": "execute_result",
          "data": {
            "text/plain": [
              "<matplotlib.axes._subplots.AxesSubplot at 0x7f779244d518>"
            ]
          },
          "metadata": {
            "tags": []
          },
          "execution_count": 302
        },
        {
          "output_type": "display_data",
          "data": {
            "image/png": "[encoded data removed]",
            "text/plain": [
              "<Figure size 432x288 with 1 Axes>"
            ]
          },
          "metadata": {
            "tags": []
          }
        }
      ]
    },
    {
      "cell_type": "markdown",
      "metadata": {
        "id": "ZxX8g6nslUoX",
        "colab_type": "text"
      },
      "source": [
        "By graph inspection and correlation analysis, we can see that there is for sure a nonnegligable correlation between education and residuals."
      ]
    },
    {
      "cell_type": "markdown",
      "metadata": {
        "id": "6O8YLrZgZQD8",
        "colab_type": "text"
      },
      "source": [
        "If the assumptions were valid there should not be correlations between our variable and our error. "
      ]
    },
    {
      "cell_type": "markdown",
      "metadata": {
        "id": "0vY29Ot3AgHt",
        "colab_type": "text"
      },
      "source": [
        "## 2.15.D"
      ]
    },
    {
      "cell_type": "code",
      "metadata": {
        "id": "-9DafBN1SrBU",
        "colab_type": "code",
        "colab": {}
      },
      "source": [
        "males = df[df.female < 1]\n",
        "females = df[df.female == 1]\n",
        "blacks = df[df.black == 1]\n",
        "whites = df[~((df.black > 0) | (df.asian > 0))]"
      ],
      "execution_count": 0,
      "outputs": []
    },
    {
      "cell_type": "code",
      "metadata": {
        "id": "dKd7LQEPUTXU",
        "colab_type": "code",
        "colab": {}
      },
      "source": [
        "def reg (df):\n",
        "  X = np.array(df.edu)\n",
        "  X = [[x] for x in X]\n",
        "  y = np.array(df.wage)\n",
        "  reg = LinearRegression()\n",
        "  reg.fit(X, y = y)\n",
        "  beta1, beta2 = reg.intercept_, reg.coef_[0]\n",
        "  return beta1, beta2, reg.score(X,y)"
      ],
      "execution_count": 0,
      "outputs": []
    },
    {
      "cell_type": "markdown",
      "metadata": {
        "id": "BKnCeSFCUz5-",
        "colab_type": "text"
      },
      "source": [
        "I'll print out $\\beta_1,\\beta_2, R^2$ for each group"
      ]
    },
    {
      "cell_type": "code",
      "metadata": {
        "id": "ttPjqDyzUsWr",
        "colab_type": "code",
        "outputId": "9ac724b3-2e0d-4c3c-fe4d-d61f6d65aeb9",
        "colab": {
          "base_uri": "https://localhost:8080/",
          "height": 34
        }
      },
      "source": [
        "# males\n",
        "reg(males)"
      ],
      "execution_count": 0,
      "outputs": [
        {
          "output_type": "execute_result",
          "data": {
            "text/plain": [
              "(-3.0544872230024644, 1.8753002741775189, 0.18080314394614128)"
            ]
          },
          "metadata": {
            "tags": []
          },
          "execution_count": 257
        }
      ]
    },
    {
      "cell_type": "code",
      "metadata": {
        "id": "ibrFAZpdU7xD",
        "colab_type": "code",
        "outputId": "494063e8-e704-488b-94b8-3c7b414a11d1",
        "colab": {
          "base_uri": "https://localhost:8080/",
          "height": 34
        }
      },
      "source": [
        "# females\n",
        "reg(females)"
      ],
      "execution_count": 0,
      "outputs": [
        {
          "output_type": "execute_result",
          "data": {
            "text/plain": [
              "(-14.16804608894212, 2.3575190108290345, 0.21066912568129081)"
            ]
          },
          "metadata": {
            "tags": []
          },
          "execution_count": 258
        }
      ]
    },
    {
      "cell_type": "code",
      "metadata": {
        "id": "04qBRTRdU-df",
        "colab_type": "code",
        "outputId": "52965662-54ce-494c-d1a5-3ac31c667554",
        "colab": {
          "base_uri": "https://localhost:8080/",
          "height": 34
        }
      },
      "source": [
        "# blacks\n",
        "reg(blacks)"
      ],
      "execution_count": 0,
      "outputs": [
        {
          "output_type": "execute_result",
          "data": {
            "text/plain": [
              "(-15.085926490796258, 2.4490577291877447, 0.20983771399538442)"
            ]
          },
          "metadata": {
            "tags": []
          },
          "execution_count": 259
        }
      ]
    },
    {
      "cell_type": "code",
      "metadata": {
        "id": "9aHpuiAdVDDP",
        "colab_type": "code",
        "outputId": "22380f04-8ddf-4916-8f0e-c4a890c49323",
        "colab": {
          "base_uri": "https://localhost:8080/",
          "height": 34
        }
      },
      "source": [
        "# whites\n",
        "reg(whites)"
      ],
      "execution_count": 0,
      "outputs": [
        {
          "output_type": "execute_result",
          "data": {
            "text/plain": [
              "(-6.550654646081597, 1.9919333140493114, 0.17656006167353122)"
            ]
          },
          "metadata": {
            "tags": []
          },
          "execution_count": 260
        }
      ]
    },
    {
      "cell_type": "markdown",
      "metadata": {
        "id": "7hI_RtRZVNQE",
        "colab_type": "text"
      },
      "source": [
        "We notice that females and black people have an appreciably greater $\\beta_2$ coefficient indicating that their marginal gains in wage by adding years of education is more substantial. These groups also have a noticably higher $R^2$ value. It seems that traditionally underrepresented groups have this higher $\\beta_2$ which could be explained by systematic biases that require these groups to have more years of education in order to obtain the on-paper qualifications to overwhelm racial and gender based descrimination. The difference in y-intercept also supports this narrative."
      ]
    },
    {
      "cell_type": "markdown",
      "metadata": {
        "id": "EbPvCPskAjGQ",
        "colab_type": "text"
      },
      "source": [
        "##2.15.E"
      ]
    },
    {
      "cell_type": "code",
      "metadata": {
        "id": "-Oz0tlk0YTeE",
        "colab_type": "code",
        "colab": {}
      },
      "source": [
        "df['edu_sqr'] = df.edu * df.edu"
      ],
      "execution_count": 0,
      "outputs": []
    },
    {
      "cell_type": "code",
      "metadata": {
        "id": "Iemxh1QUZkA4",
        "colab_type": "code",
        "outputId": "b14fa04e-1eb8-4a71-af52-901781eaceac",
        "colab": {
          "base_uri": "https://localhost:8080/",
          "height": 34
        }
      },
      "source": [
        "X = np.array(df.edu_sqr)\n",
        "X = X.reshape(-1,1)\n",
        "y = np.array(df.wage)\n",
        "reg2 = LinearRegression()\n",
        "reg2.fit(X, y = y)\n",
        "alpha1, alpha2 = reg2.intercept_, reg2.coef_[0]\n",
        "alpha1, alpha2"
      ],
      "execution_count": 0,
      "outputs": [
        {
          "output_type": "execute_result",
          "data": {
            "text/plain": [
              "(6.0828310076399905, 0.07348905965644362)"
            ]
          },
          "metadata": {
            "tags": []
          },
          "execution_count": 242
        }
      ]
    },
    {
      "cell_type": "code",
      "metadata": {
        "id": "327mc5rza-kr",
        "colab_type": "code",
        "outputId": "6d928d58-df70-4b7e-972c-b7dea7a52c9c",
        "colab": {
          "base_uri": "https://localhost:8080/",
          "height": 34
        }
      },
      "source": [
        "reg2.score(X,y)"
      ],
      "execution_count": 0,
      "outputs": [
        {
          "output_type": "execute_result",
          "data": {
            "text/plain": [
              "0.18817619885417114"
            ]
          },
          "metadata": {
            "tags": []
          },
          "execution_count": 243
        }
      ]
    },
    {
      "cell_type": "code",
      "metadata": {
        "id": "8WMYSPL5Z_cI",
        "colab_type": "code",
        "outputId": "bc348359-432a-4d22-9fdd-8039513e2af9",
        "colab": {
          "base_uri": "https://localhost:8080/",
          "height": 301
        }
      },
      "source": [
        "fig = plt.figure()\n",
        "ax = plt.axes()\n",
        "X = np.linspace(0,600,10000)\n",
        "X = X.reshape(-1,1)\n",
        "\n",
        "y = reg2.predict(X)\n",
        "df.plot(y = 'wage', x = 'edu_sqr', style = '.', ax = ax, alpha = 0.3)\n",
        "ax.plot(X, y)\n"
      ],
      "execution_count": 0,
      "outputs": [
        {
          "output_type": "execute_result",
          "data": {
            "text/plain": [
              "[<matplotlib.lines.Line2D at 0x7f77926fe278>]"
            ]
          },
          "metadata": {
            "tags": []
          },
          "execution_count": 244
        },
        {
          "output_type": "display_data",
          "data": {
            "image/png": "[encoded data removed]",
            "text/plain": [
              "<Figure size 432x288 with 1 Axes>"
            ]
          },
          "metadata": {
            "tags": []
          }
        }
      ]
    },
    {
      "cell_type": "markdown",
      "metadata": {
        "id": "dxTaf3W9nadb",
        "colab_type": "text"
      },
      "source": [
        "We know that the marginal  effect of an extra year is the derivative of our wages estimation WRT education years. WIth the quadratic regression we estimate $WAGES = \\alpha_1 + \\alpha_2 \\cdot EDU^2$\n",
        "and thus,\n",
        "${d(WAGES)\\over d(EDU)} = 2\\alpha_2 EDU$"
      ]
    },
    {
      "cell_type": "code",
      "metadata": {
        "id": "tYwjvBusdAW4",
        "colab_type": "code",
        "outputId": "ad474425-7323-4e53-aaa3-a1e696eddbfa",
        "colab": {
          "base_uri": "https://localhost:8080/",
          "height": 34
        }
      },
      "source": [
        "deriv_quad = lambda ed: 2 * alpha2 * ed\n",
        "deriv_quad(12), deriv_quad(14)"
      ],
      "execution_count": 0,
      "outputs": [
        {
          "output_type": "execute_result",
          "data": {
            "text/plain": [
              "(1.7637374317546468, 2.0576936703804214)"
            ]
          },
          "metadata": {
            "tags": []
          },
          "execution_count": 245
        }
      ]
    },
    {
      "cell_type": "markdown",
      "metadata": {
        "id": "KCKU7LAoryMl",
        "colab_type": "text"
      },
      "source": [
        "For the LSR we have $WAGES = \\beta_1 + \\beta_2 \\cdot EDU$\n",
        "and thus,\n",
        "${d(WAGES)\\over d(EDU)} = \\beta_2$"
      ]
    },
    {
      "cell_type": "code",
      "metadata": {
        "id": "cUK9GYunsPwY",
        "colab_type": "code",
        "outputId": "15691fa1-a0f0-425a-aa49-ea2d586c698e",
        "colab": {
          "base_uri": "https://localhost:8080/",
          "height": 34
        }
      },
      "source": [
        "deriv = lambda ed: beta2\n",
        "deriv(12), deriv(14)"
      ],
      "execution_count": 0,
      "outputs": [
        {
          "output_type": "execute_result",
          "data": {
            "text/plain": [
              "(1.9802875875422308, 1.9802875875422308)"
            ]
          },
          "metadata": {
            "tags": []
          },
          "execution_count": 246
        }
      ]
    },
    {
      "cell_type": "markdown",
      "metadata": {
        "id": "9miwONocsiJ9",
        "colab_type": "text"
      },
      "source": [
        "As we can see, because of the quadratic nature of the quadratic regression, the marginals increase as years increase which result in what we see above where the quadratic marginal at 12 years is less than that of the linear model but at 14 years it is the other way around."
      ]
    },
    {
      "cell_type": "markdown",
      "metadata": {
        "id": "jZ-2rj1ZAsqD",
        "colab_type": "text"
      },
      "source": [
        "##2.15F"
      ]
    },
    {
      "cell_type": "code",
      "metadata": {
        "id": "URjg9bCvsXBo",
        "colab_type": "code",
        "outputId": "34611a52-3864-4c3d-bb36-9aa6130054b4",
        "colab": {
          "base_uri": "https://localhost:8080/",
          "height": 300
        }
      },
      "source": [
        "fig = plt.figure()\n",
        "ax = plt.axes()\n",
        "\n",
        "line = lambda ed: beta1 + beta2 * ed\n",
        "quad = lambda ed: alpha1 + alpha2 * ed**2\n",
        "\n",
        "X = range(0,30)\n",
        "y1 = [line(x) for x in X]\n",
        "y2 = [quad(x) for x in X]\n",
        "ax.plot(X,y1)\n",
        "ax.plot(X, y2)\n",
        "\n",
        "df.plot(x = 'edu', y = 'wage', style = '.', alpha = .2, ax = ax)"
      ],
      "execution_count": 0,
      "outputs": [
        {
          "output_type": "execute_result",
          "data": {
            "text/plain": [
              "<matplotlib.axes._subplots.AxesSubplot at 0x7f7792e61908>"
            ]
          },
          "metadata": {
            "tags": []
          },
          "execution_count": 200
        },
        {
          "output_type": "display_data",
          "data": {
            "image/png": "[encoded data removed]",
            "text/plain": [
              "<Figure size 432x288 with 1 Axes>"
            ]
          },
          "metadata": {
            "tags": []
          }
        }
      ]
    },
    {
      "cell_type": "markdown",
      "metadata": {
        "id": "MI5FS7CxuM-0",
        "colab_type": "text"
      },
      "source": [
        "The quadratic model seems to fit the data, however, the eye test might be misleading because it is difficult to identify large clusters at a particular value on the x axis."
      ]
    },
    {
      "cell_type": "markdown",
      "metadata": {
        "id": "49SuodahAwq0",
        "colab_type": "text"
      },
      "source": [
        "##2.15.G"
      ]
    },
    {
      "cell_type": "code",
      "metadata": {
        "id": "BNoG8MwctapD",
        "colab_type": "code",
        "colab": {}
      },
      "source": [
        "df['ln_wage'] = np.log(df.wage)"
      ],
      "execution_count": 0,
      "outputs": []
    },
    {
      "cell_type": "code",
      "metadata": {
        "id": "bnn31Tq5w29g",
        "colab_type": "code",
        "outputId": "03198a4c-5adb-4890-f864-2c6234edd4e5",
        "colab": {
          "base_uri": "https://localhost:8080/",
          "height": 315
        }
      },
      "source": [
        "df.hist('ln_wage', bins = 10)"
      ],
      "execution_count": 0,
      "outputs": [
        {
          "output_type": "execute_result",
          "data": {
            "text/plain": [
              "array([[<matplotlib.axes._subplots.AxesSubplot object at 0x7f7792d90828>]],\n",
              "      dtype=object)"
            ]
          },
          "metadata": {
            "tags": []
          },
          "execution_count": 208
        },
        {
          "output_type": "display_data",
          "data": {
            "image/png": "[encoded data removed]",
            "text/plain": [
              "<Figure size 432x288 with 1 Axes>"
            ]
          },
          "metadata": {
            "tags": []
          }
        }
      ]
    },
    {
      "cell_type": "markdown",
      "metadata": {
        "id": "STaPEj7gw_jq",
        "colab_type": "text"
      },
      "source": [
        "The log of wages certainly seems more normally distributed than wages"
      ]
    },
    {
      "cell_type": "markdown",
      "metadata": {
        "id": "EIYLoIKQA1L9",
        "colab_type": "text"
      },
      "source": [
        "## 2.15.H"
      ]
    },
    {
      "cell_type": "code",
      "metadata": {
        "id": "aFM3v6toui6s",
        "colab_type": "code",
        "outputId": "199d6e30-0b5f-4b30-8c8b-10ec2d24da88",
        "colab": {
          "base_uri": "https://localhost:8080/",
          "height": 34
        }
      },
      "source": [
        "X = np.array(df.edu)\n",
        "X = X.reshape(-1,1)\n",
        "y = np.array(df.ln_wage)\n",
        "reg3 = LinearRegression()\n",
        "reg3.fit(X, y = y)\n",
        "gamma1, gamma2 = reg3.intercept_, reg3.coef_[0]\n",
        "gamma1, gamma2"
      ],
      "execution_count": 0,
      "outputs": [
        {
          "output_type": "execute_result",
          "data": {
            "text/plain": [
              "(1.6094444661971297, 0.09040824708224358)"
            ]
          },
          "metadata": {
            "tags": []
          },
          "execution_count": 213
        }
      ]
    },
    {
      "cell_type": "markdown",
      "metadata": {
        "id": "Cx2wYhV9vaxH",
        "colab_type": "text"
      },
      "source": [
        "We have $$\\log(WAGES)=\\gamma_1+\\gamma_2\\cdot EDU$$\n",
        "$$\\Rightarrow WAGES= e^{\\gamma_1}\\cdot e^{\\gamma_2}$$\n",
        "$$\\Rightarrow {d(WAGES)\\over d(EDU)}=e^{\\gamma_1}\\cdot \\gamma_2\\cdot e^{\\gamma_2 EDU}$$"
      ]
    },
    {
      "cell_type": "code",
      "metadata": {
        "id": "2-gav2bzuzvz",
        "colab_type": "code",
        "outputId": "526599c9-08dd-4c4c-bbeb-556a975e8691",
        "colab": {
          "base_uri": "https://localhost:8080/",
          "height": 34
        }
      },
      "source": [
        "log_deriv = lambda ed: np.e ** gamma1 * gamma2 * np.e**(gamma2*ed)\n",
        "log_deriv(12),log_deriv(14)"
      ],
      "execution_count": 0,
      "outputs": [
        {
          "output_type": "execute_result",
          "data": {
            "text/plain": [
              "(1.337662441797859, 1.6027808283979161)"
            ]
          },
          "metadata": {
            "tags": []
          },
          "execution_count": 206
        }
      ]
    },
    {
      "cell_type": "markdown",
      "metadata": {
        "id": "nI5AIYgewz_Y",
        "colab_type": "text"
      },
      "source": [
        "The marginals of the log-linear model of course increase with increasing education, however, the marginals in question are less than there comparables for both the linear and the quadratic models."
      ]
    },
    {
      "cell_type": "code",
      "metadata": {
        "id": "aQyPww6yweeF",
        "colab_type": "code",
        "outputId": "cb940266-13c2-48d1-b6a4-168f8433cbce",
        "colab": {
          "base_uri": "https://localhost:8080/",
          "height": 300
        }
      },
      "source": [
        "fig = plt.figure()\n",
        "ax = plt.axes()\n",
        "\n",
        "line = lambda ed: beta1 + beta2 * ed\n",
        "quad = lambda ed: alpha1 + alpha2 * ed**2\n",
        "log = lambda ed: np.e**(gamma1 + gamma2* ed)\n",
        "\n",
        "X = range(0,30)\n",
        "y1 = [line(x) for x in X]\n",
        "y2 = [quad(x) for x in X]\n",
        "y3 = [log(x) for x in X]\n",
        "ax.plot(X,y1, label = 'linear')\n",
        "ax.plot(X, y2, label = 'quadratic')\n",
        "ax.plot(X, y3, label = 'exp')\n",
        "\n",
        "df.plot(x = 'edu', y = 'wage', style = '.', alpha = .2, ax = ax)\n",
        "ax.legend()"
      ],
      "execution_count": 0,
      "outputs": [
        {
          "output_type": "execute_result",
          "data": {
            "text/plain": [
              "<matplotlib.legend.Legend at 0x7f7792a75be0>"
            ]
          },
          "metadata": {
            "tags": []
          },
          "execution_count": 219
        },
        {
          "output_type": "display_data",
          "data": {
            "image/png": "[encoded data removed]",
            "text/plain": [
              "<Figure size 432x288 with 1 Axes>"
            ]
          },
          "metadata": {
            "tags": []
          }
        }
      ]
    },
    {
      "cell_type": "code",
      "metadata": {
        "id": "Rr2m_Zoc4cQA",
        "colab_type": "code",
        "colab": {}
      },
      "source": [
        ""
      ],
      "execution_count": 0,
      "outputs": []
    }
  ]
}